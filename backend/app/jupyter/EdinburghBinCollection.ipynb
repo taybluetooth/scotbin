{
 "cells": [
  {
   "cell_type": "code",
   "execution_count": 1,
   "id": "7b380b50",
   "metadata": {},
   "outputs": [],
   "source": [
    "\n",
    "import sys\n",
    "sys.path.append('C:\\\\Python310\\\\lib\\\\site-packages')\n",
    "import pandas as pd\n",
    "import fitz"
   ]
  },
  {
   "cell_type": "code",
   "execution_count": 2,
   "id": "5a5863ef",
   "metadata": {},
   "outputs": [],
   "source": [
    "GREEN_BIN_COLOR = (93, 187, 94)\n",
    "GREY_BIN_COLOR = (0, 164, 210)\n",
    "GREEN = 'green'\n",
    "GREY = 'grey'\n",
    "\n",
    "class BinDict:\n",
    "    def __init__(self, date, color):\n",
    "        self.date = date\n",
    "        self.color = color\n",
    "        self.month = None"
   ]
  },
  {
   "cell_type": "code",
   "execution_count": 3,
   "id": "1630f8a9",
   "metadata": {},
   "outputs": [],
   "source": [
    "def rgb_to_rgb(rgb):\n",
    "    if len(rgb) != 3:\n",
    "        raise ValueError(\"RGB must be a list of four values.\")\n",
    "\n",
    "    R, G, B = rgb\n",
    "    R = 255 * R\n",
    "    G = 255 * G\n",
    "    B = 255 * B\n",
    "    return int(R), int(G), int(B)"
   ]
  },
  {
   "cell_type": "code",
   "execution_count": 4,
   "id": "fc568278",
   "metadata": {},
   "outputs": [],
   "source": [
    "def get_bin_type(shape, color):\n",
    "    return rgb_to_rgb(shape['fill']) == color"
   ]
  },
  {
   "cell_type": "code",
   "execution_count": 5,
   "id": "7bc8e5b8",
   "metadata": {},
   "outputs": [],
   "source": [
    "def extract_text_in_shapes(pdf_path):\n",
    "    doc = fitz.open(pdf_path)\n",
    "    text_in_shapes = []\n",
    "\n",
    "    for page in doc:\n",
    "        shapes = page.get_drawings()\n",
    "        shapes.sort(key=lambda s: (round(s['rect'].x0 / 5), s['rect'].y0))\n",
    "        \n",
    "        for shape in shapes:\n",
    "            if shape['fill'] and page.get_textbox(shape['rect']):\n",
    "                if get_bin_type(shape, GREEN_BIN_COLOR):\n",
    "                    text_in_shapes.append(BinDict(page.get_textbox(\n",
    "                        shape['rect']), GREEN))\n",
    "                elif get_bin_type(shape, GREY_BIN_COLOR):\n",
    "                    text_in_shapes.append(BinDict(page.get_textbox(\n",
    "                        shape['rect']), GREY))\n",
    "    return text_in_shapes"
   ]
  },
  {
   "cell_type": "code",
   "execution_count": 6,
   "id": "70a7ba8f-1e1c-439e-9b5b-6c4ccc40072a",
   "metadata": {},
   "outputs": [],
   "source": [
    "def sort_by_month(data):\n",
    "    current_month = 1\n",
    "    sorted_data = []\n",
    "\n",
    "    for i, current in enumerate(data):\n",
    "        # Print the current item\n",
    "        sorted_data.append([f'{current_month}/{current.date}', current.color])\n",
    "\n",
    "        # Check if there is a next item, then update month if date decreases\n",
    "        if i < len(data) - 1:  # Make sure there is a next item\n",
    "            next_item = data[i + 1]\n",
    "            if current.date > next_item.date:\n",
    "                current_month += 1\n",
    "    \n",
    "    return sorted_data"
   ]
  },
  {
   "cell_type": "code",
   "execution_count": 7,
   "id": "86b32e85",
   "metadata": {},
   "outputs": [],
   "source": [
    "def parse_into_dataframe(file_path):\n",
    "    data = extract_text_in_shapes(file_path)\n",
    "    sorted_data = sort_by_month(data)\n",
    "    df = pd.DataFrame(sorted_data, columns=['Date', 'Bin Color'])\n",
    "    return df"
   ]
  },
  {
   "cell_type": "code",
   "execution_count": 8,
   "id": "c56b3269",
   "metadata": {},
   "outputs": [
    {
     "ename": "FileNotFoundError",
     "evalue": "no such file: 'pdfs/provost_haugh.pdf'",
     "output_type": "error",
     "traceback": [
      "\u001b[1;31m---------------------------------------------------------------------------\u001b[0m",
      "\u001b[1;31mFileNotFoundError\u001b[0m                         Traceback (most recent call last)",
      "\u001b[1;32m<ipython-input-8-d214ef30ffe3>\u001b[0m in \u001b[0;36m<module>\u001b[1;34m\u001b[0m\n\u001b[1;32m----> 1\u001b[1;33m \u001b[0mdf\u001b[0m \u001b[1;33m=\u001b[0m \u001b[0mparse_into_dataframe\u001b[0m\u001b[1;33m(\u001b[0m\u001b[1;34m'pdfs/provost_haugh.pdf'\u001b[0m\u001b[1;33m)\u001b[0m\u001b[1;33m\u001b[0m\u001b[1;33m\u001b[0m\u001b[0m\n\u001b[0m\u001b[0;32m      2\u001b[0m \u001b[0mdf\u001b[0m\u001b[1;33m.\u001b[0m\u001b[0mstyle\u001b[0m\u001b[1;33m.\u001b[0m\u001b[0mapplymap\u001b[0m\u001b[1;33m(\u001b[0m\u001b[1;32mlambda\u001b[0m \u001b[0mx\u001b[0m\u001b[1;33m:\u001b[0m \u001b[1;34mf'background-color: rgb{GREY_BIN_COLOR}'\u001b[0m \u001b[1;32mif\u001b[0m \u001b[0mx\u001b[0m \u001b[1;33m==\u001b[0m \u001b[0mGREY\u001b[0m \u001b[1;32melse\u001b[0m \u001b[1;34mf'background-color: rgb{GREEN_BIN_COLOR}'\u001b[0m \u001b[1;32mif\u001b[0m \u001b[0mx\u001b[0m \u001b[1;33m==\u001b[0m \u001b[0mGREEN\u001b[0m \u001b[1;32melse\u001b[0m \u001b[1;34m\"background-color: white\"\u001b[0m\u001b[1;33m)\u001b[0m\u001b[1;33m\u001b[0m\u001b[1;33m\u001b[0m\u001b[0m\n",
      "\u001b[1;32m<ipython-input-7-09b5c8e18a31>\u001b[0m in \u001b[0;36mparse_into_dataframe\u001b[1;34m(file_path)\u001b[0m\n\u001b[0;32m      1\u001b[0m \u001b[1;32mdef\u001b[0m \u001b[0mparse_into_dataframe\u001b[0m\u001b[1;33m(\u001b[0m\u001b[0mfile_path\u001b[0m\u001b[1;33m)\u001b[0m\u001b[1;33m:\u001b[0m\u001b[1;33m\u001b[0m\u001b[1;33m\u001b[0m\u001b[0m\n\u001b[1;32m----> 2\u001b[1;33m     \u001b[0mdata\u001b[0m \u001b[1;33m=\u001b[0m \u001b[0mextract_text_in_shapes\u001b[0m\u001b[1;33m(\u001b[0m\u001b[0mfile_path\u001b[0m\u001b[1;33m)\u001b[0m\u001b[1;33m\u001b[0m\u001b[1;33m\u001b[0m\u001b[0m\n\u001b[0m\u001b[0;32m      3\u001b[0m     \u001b[0msorted_data\u001b[0m \u001b[1;33m=\u001b[0m \u001b[0msort_by_month\u001b[0m\u001b[1;33m(\u001b[0m\u001b[0mdata\u001b[0m\u001b[1;33m)\u001b[0m\u001b[1;33m\u001b[0m\u001b[1;33m\u001b[0m\u001b[0m\n\u001b[0;32m      4\u001b[0m     \u001b[0mdf\u001b[0m \u001b[1;33m=\u001b[0m \u001b[0mpd\u001b[0m\u001b[1;33m.\u001b[0m\u001b[0mDataFrame\u001b[0m\u001b[1;33m(\u001b[0m\u001b[0msorted_data\u001b[0m\u001b[1;33m,\u001b[0m \u001b[0mcolumns\u001b[0m\u001b[1;33m=\u001b[0m\u001b[1;33m[\u001b[0m\u001b[1;34m'Date'\u001b[0m\u001b[1;33m,\u001b[0m \u001b[1;34m'Bin Color'\u001b[0m\u001b[1;33m]\u001b[0m\u001b[1;33m)\u001b[0m\u001b[1;33m\u001b[0m\u001b[1;33m\u001b[0m\u001b[0m\n\u001b[0;32m      5\u001b[0m     \u001b[1;32mreturn\u001b[0m \u001b[0mdf\u001b[0m\u001b[1;33m\u001b[0m\u001b[1;33m\u001b[0m\u001b[0m\n",
      "\u001b[1;32m<ipython-input-5-5b3e3f86300b>\u001b[0m in \u001b[0;36mextract_text_in_shapes\u001b[1;34m(pdf_path)\u001b[0m\n\u001b[0;32m      1\u001b[0m \u001b[1;32mdef\u001b[0m \u001b[0mextract_text_in_shapes\u001b[0m\u001b[1;33m(\u001b[0m\u001b[0mpdf_path\u001b[0m\u001b[1;33m)\u001b[0m\u001b[1;33m:\u001b[0m\u001b[1;33m\u001b[0m\u001b[1;33m\u001b[0m\u001b[0m\n\u001b[1;32m----> 2\u001b[1;33m     \u001b[0mdoc\u001b[0m \u001b[1;33m=\u001b[0m \u001b[0mfitz\u001b[0m\u001b[1;33m.\u001b[0m\u001b[0mopen\u001b[0m\u001b[1;33m(\u001b[0m\u001b[0mpdf_path\u001b[0m\u001b[1;33m)\u001b[0m\u001b[1;33m\u001b[0m\u001b[1;33m\u001b[0m\u001b[0m\n\u001b[0m\u001b[0;32m      3\u001b[0m     \u001b[0mtext_in_shapes\u001b[0m \u001b[1;33m=\u001b[0m \u001b[1;33m[\u001b[0m\u001b[1;33m]\u001b[0m\u001b[1;33m\u001b[0m\u001b[1;33m\u001b[0m\u001b[0m\n\u001b[0;32m      4\u001b[0m \u001b[1;33m\u001b[0m\u001b[0m\n\u001b[0;32m      5\u001b[0m     \u001b[1;32mfor\u001b[0m \u001b[0mpage\u001b[0m \u001b[1;32min\u001b[0m \u001b[0mdoc\u001b[0m\u001b[1;33m:\u001b[0m\u001b[1;33m\u001b[0m\u001b[1;33m\u001b[0m\u001b[0m\n",
      "\u001b[1;32mC:\\Python310\\lib\\site-packages\\pymupdf\\__init__.py\u001b[0m in \u001b[0;36m__init__\u001b[1;34m(self, filename, stream, filetype, rect, width, height, fontsize)\u001b[0m\n\u001b[0;32m   2939\u001b[0m                 \u001b[1;32mif\u001b[0m \u001b[1;32mnot\u001b[0m \u001b[0mos\u001b[0m\u001b[1;33m.\u001b[0m\u001b[0mpath\u001b[0m\u001b[1;33m.\u001b[0m\u001b[0mexists\u001b[0m\u001b[1;33m(\u001b[0m\u001b[0mfilename\u001b[0m\u001b[1;33m)\u001b[0m\u001b[1;33m:\u001b[0m\u001b[1;33m\u001b[0m\u001b[1;33m\u001b[0m\u001b[0m\n\u001b[0;32m   2940\u001b[0m                     \u001b[0mmsg\u001b[0m \u001b[1;33m=\u001b[0m \u001b[1;34mf\"no such file: '{filename}'\"\u001b[0m\u001b[1;33m\u001b[0m\u001b[1;33m\u001b[0m\u001b[0m\n\u001b[1;32m-> 2941\u001b[1;33m                     \u001b[1;32mraise\u001b[0m \u001b[0mFileNotFoundError\u001b[0m\u001b[1;33m(\u001b[0m\u001b[0mmsg\u001b[0m\u001b[1;33m)\u001b[0m\u001b[1;33m\u001b[0m\u001b[1;33m\u001b[0m\u001b[0m\n\u001b[0m\u001b[0;32m   2942\u001b[0m                 \u001b[1;32melif\u001b[0m \u001b[1;32mnot\u001b[0m \u001b[0mos\u001b[0m\u001b[1;33m.\u001b[0m\u001b[0mpath\u001b[0m\u001b[1;33m.\u001b[0m\u001b[0misfile\u001b[0m\u001b[1;33m(\u001b[0m\u001b[0mfilename\u001b[0m\u001b[1;33m)\u001b[0m\u001b[1;33m:\u001b[0m\u001b[1;33m\u001b[0m\u001b[1;33m\u001b[0m\u001b[0m\n\u001b[0;32m   2943\u001b[0m                     \u001b[0mmsg\u001b[0m \u001b[1;33m=\u001b[0m \u001b[1;34mf\"'{filename}' is no file\"\u001b[0m\u001b[1;33m\u001b[0m\u001b[1;33m\u001b[0m\u001b[0m\n",
      "\u001b[1;31mFileNotFoundError\u001b[0m: no such file: 'pdfs/provost_haugh.pdf'"
     ]
    }
   ],
   "source": [
    "df = parse_into_dataframe('temp/bin_calendar_temp.pdf')\n",
    "df.style.applymap(lambda x: f'background-color: rgb{GREY_BIN_COLOR}' if x == GREY else f'background-color: rgb{GREEN_BIN_COLOR}' if x == GREEN else \"background-color: white\")"
   ]
  },
  {
   "cell_type": "code",
   "execution_count": null,
   "id": "7746336a-331d-461d-84a1-4aef85c502f7",
   "metadata": {},
   "outputs": [],
   "source": []
  }
 ],
 "metadata": {
  "kernelspec": {
   "display_name": "Python 3",
   "language": "python",
   "name": "python3"
  },
  "language_info": {
   "codemirror_mode": {
    "name": "ipython",
    "version": 3
   },
   "file_extension": ".py",
   "mimetype": "text/x-python",
   "name": "python",
   "nbconvert_exporter": "python",
   "pygments_lexer": "ipython3",
   "version": "3.8.8"
  }
 },
 "nbformat": 4,
 "nbformat_minor": 5
}
